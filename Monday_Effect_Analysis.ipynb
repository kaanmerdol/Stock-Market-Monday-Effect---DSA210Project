# **The Monday Effect in Stock Markets**

<div align="center">
  <img src="https://img.shields.io/badge/DSA210-Project-blue" alt="DSA210 Project"/>
  <img src="https://img.shields.io/badge/Status-Completed-brightgreen" alt="Status: Completed"/>
  <img src="https://img.shields.io/badge/Python-3.9+-orange" alt="Python 3.9+"/>
</div>

## **1. Introduction**

### **What is the Monday Effect?**

The Monday Effect (also known as the "Weekend Effect") is a well-known financial anomaly where stock returns on Mondays tend to be lower compared to other days of the week. This phenomenon has been studied extensively in finance literature since the 1970s. According to this theory, stock prices typically fall on Mondays following the trend that began on the preceding Friday. Several explanations have been proposed for this effect:

- **Investor Psychology**: People tend to be more pessimistic on Mondays, leading to more selling pressure.
- **Weekend Information Processing**: Bad news is often released over the weekend when markets are closed.
- **Institutional Factors**: Trading patterns of institutional investors differ across weekdays.

### **Why are we investigating it?**

This project aims to:
1. Verify if the Monday Effect is still present in modern stock market data
2. Quantify the magnitude of the effect if it exists
3. Test the statistical significance of any observed patterns
4. Understand if the effect differs between major market indices

If the Monday Effect exists and is statistically significant, it may provide valuable insights for trading strategies and investment decision-making. This investigation also serves as a practical application of data science techniques to financial markets.

## **Table of Contents**

1. [Introduction](#1-introduction)
2. [Importing & Installing Libraries](#2-importing--installing-libraries)
3. [Data Collection](#3-data-collection)
4. [Data Cleaning & Preparation](#4-data-cleaning--preparation)
5. [Exploratory Data Analysis (EDA)](#5-exploratory-data-analysis-eda)
6. [Hypothesis Testing](#6-hypothesis-testing)
7. [Findings](#7-findings)
8. [Limitations & Future Work](#8-limitations--future-work)
9. [Conclusion](#9-conclusion)

## **2. Importing & Installing Libraries**

First, we need to install and import the required libraries for our analysis:

```python
# Install yfinance if not already installed
!pip install yfinance

# Import necessary libraries
import yfinance as yf
import pandas as pd
import numpy as np
import matplotlib.pyplot as plt
import seaborn as sns
from scipy import stats
from datetime import datetime, timedelta
import matplotlib.dates as mdates
from matplotlib.ticker import PercentFormatter

# Set plot style and figure size
plt.style.use('seaborn-v0_8-whitegrid')
plt.rcParams['figure.figsize'] = (12, 6)
plt.rcParams['axes.labelsize'] = 12
plt.rcParams['axes.titlesize'] = 14
plt.rcParams['xtick.labelsize'] = 10
plt.rcParams['ytick.labelsize'] = 10

# Set color palette for our visualizations
colors = sns.color_palette('viridis', 5)
```

## **3. Data Collection**

In this section, we'll collect historical stock data for the S&P 500 (^GSPC) and NASDAQ (^IXIC) indices from Yahoo Finance using the `yfinance` library. We'll fetch daily data for the past 5 years.

```python
# Define time period (5 years of data)
end_date = datetime.now().date()
start_date = end_date - timedelta(days=5*365)  # Approximately 5 years

print(f"Collecting data from {start_date} to {end_date}")

# List of indices to analyze
indices = {
    '^GSPC': 'S&P 500',
    '^IXIC': 'NASDAQ'
}

# Fetch data for each index
data = {}
for ticker, name in indices.items():
    print(f"Fetching data for {name} ({ticker})...")
    data[ticker] = yf.download(ticker, start=start_date, end=end_date)
    print(f"Collected {len(data[ticker])} records\n")

# Let's look at the first index data
sp500_data = data['^GSPC']
print("S&P 500 Data Sample:")
sp500_data.head()
```

Let's also look at the NASDAQ data:

```python
# Display NASDAQ data sample
nasdaq_data = data['^IXIC']
print("NASDAQ Data Sample:")
nasdaq_data.head()
```

Now, let's check the basic information about our datasets to understand their structure:

```python
# Check basic information about S&P 500 dataset
print("S&P 500 Data Info:")
sp500_data.info()

# Check summary statistics
print("\nS&P 500 Summary Statistics:")
sp500_data.describe()
```

## **4. Data Cleaning & Preparation**

In this section, we'll:
1. Handle missing values
2. Calculate daily returns
3. Add a weekday column
4. Combine data from both indices for analysis

```python
# Function to prepare data for each index
def prepare_data(df, index_name):
    # Create a copy to avoid modifying the original data
    prepared_df = df.copy()
    
    # Drop any missing values
    prepared_df.dropna(inplace=True)
    
    # Calculate daily returns (percentage change from previous day)
    prepared_df['Daily_Return'] = prepared_df['Adj Close'].pct_change() * 100
    
    # Add weekday column (0=Monday, 4=Friday)
    prepared_df['Weekday'] = prepared_df.index.dayofweek
    
    # Add weekday name column
    weekday_map = {0: 'Monday', 1: 'Tuesday', 2: 'Wednesday', 3: 'Thursday', 4: 'Friday'}
    prepared_df['Weekday_Name'] = prepared_df['Weekday'].map(weekday_map)
    
    # Add index name column for later identification
    prepared_df['Index'] = index_name
    
    # Drop the first row (since it has NaN return)
    prepared_df = prepared_df.iloc[1:]
    
    return prepared_df

# Prepare each dataset
sp500_prepared = prepare_data(sp500_data, 'S&P 500')
nasdaq_prepared = prepare_data(nasdaq_data, 'NASDAQ')

# Combine both datasets
combined_data = pd.concat([sp500_prepared, nasdaq_prepared])

# Let's check the prepared data
print("S&P 500 prepared data sample:")
sp500_prepared.head()
```

Let's also check the NASDAQ prepared data:

```python
# Display NASDAQ prepared data sample
print("NASDAQ prepared data sample:")
nasdaq_prepared.head()
```

Let's create a summary of our data after cleaning:

```python
# Display summary of data after preparation
print("\nData summary after preparation:")
print(f"Total trading days in S&P 500 dataset: {len(sp500_prepared)}")
print(f"Total trading days in NASDAQ dataset: {len(nasdaq_prepared)}")
print(f"Combined dataset size: {len(combined_data)}")

# Check for missing values in the prepared datasets
print("\nMissing values in S&P 500 prepared data:")
print(sp500_prepared.isnull().sum())

print("\nMissing values in NASDAQ prepared data:")
print(nasdaq_prepared.isnull().sum())
```

## **5. Exploratory Data Analysis (EDA)**

In this section, we'll explore the data to identify any patterns related to the Monday Effect. We'll start with visualizing the distribution of daily returns by weekday for each index.

### **5.1 Overall Distribution of Daily Returns**

```python
plt.figure(figsize=(14, 6))

# Plot histogram with kernel density estimate for S&P 500
plt.subplot(1, 2, 1)
sns.histplot(sp500_prepared['Daily_Return'], kde=True, color=colors[0])
plt.title('S&P 500 Daily Returns Distribution')
plt.xlabel('Daily Return (%)')
plt.ylabel('Frequency')
plt.axvline(x=0, color='red', linestyle='--')

# Plot histogram with kernel density estimate for NASDAQ
plt.subplot(1, 2, 2)
sns.histplot(nasdaq_prepared['Daily_Return'], kde=True, color=colors[1])
plt.title('NASDAQ Daily Returns Distribution')
plt.xlabel('Daily Return (%)')
plt.ylabel('Frequency')
plt.axvline(x=0, color='red', linestyle='--')

plt.tight_layout()
plt.show()

# Summary statistics for daily returns
return_stats = pd.DataFrame({
    'S&P 500': sp500_prepared['Daily_Return'].describe(),
    'NASDAQ': nasdaq_prepared['Daily_Return'].describe()
})
print("Summary Statistics for Daily Returns (%):")
return_stats
```

The histograms above show the distribution of daily returns for both indices. The red dotted line represents zero return. We can observe that both distributions are approximately normal with a slight positive skew, which is typical for stock market returns. The summary statistics provide numerical insight into the central tendency and spread of daily returns.

### **5.2 Returns by Weekday**

Let's examine whether daily returns differ across weekdays, with a particular focus on Mondays:

```python
plt.figure(figsize=(16, 7))

# Boxplot for S&P 500
plt.subplot(1, 2, 1)
sns.boxplot(x='Weekday_Name', y='Daily_Return', data=sp500_prepared, 
            order=['Monday', 'Tuesday', 'Wednesday', 'Thursday', 'Friday'],
            palette=colors)
plt.title('S&P 500 Returns by Weekday')
plt.xlabel('Weekday')
plt.ylabel('Daily Return (%)')
plt.axhline(y=0, color='red', linestyle='--')
plt.xticks(rotation=45)

# Boxplot for NASDAQ
plt.subplot(1, 2, 2)
sns.boxplot(x='Weekday_Name', y='Daily_Return', data=nasdaq_prepared,
            order=['Monday', 'Tuesday', 'Wednesday', 'Thursday', 'Friday'],
            palette=colors)
plt.title('NASDAQ Returns by Weekday')
plt.xlabel('Weekday')
plt.ylabel('Daily Return (%)')
plt.axhline(y=0, color='red', linestyle='--')
plt.xticks(rotation=45)

plt.tight_layout()
plt.show()
```

The box plots above show the distribution of daily returns by weekday for both indices. The red dotted line represents zero return. We can observe whether Monday returns tend to be lower than other days of the week, which would support the Monday Effect hypothesis.

### **5.3 Average Returns by Weekday**

Let's calculate and visualize the average returns for each weekday:

```python
# Calculate average return by weekday for each index
sp500_avg_by_day = sp500_prepared.groupby('Weekday_Name')['Daily_Return'].mean()
nasdaq_avg_by_day = nasdaq_prepared.groupby('Weekday_Name')['Daily_Return'].mean()

# Create a DataFrame for visualization
avg_returns = pd.DataFrame({
    'S&P 500': sp500_avg_by_day,
    'NASDAQ': nasdaq_avg_by_day
})

# Reorder the index to have Monday first
avg_returns = avg_returns.reindex(['Monday', 'Tuesday', 'Wednesday', 'Thursday', 'Friday'])

# Display average returns table
print("Average Returns by Weekday (%):")
avg_returns.style.background_gradient(cmap='RdYlGn')

# Plotting average returns
plt.figure(figsize=(14, 7))

# Set positions for bars
indices_order = np.arange(5)
bar_width = 0.35

# Create bars
plt.bar(indices_order - bar_width/2, avg_returns['S&P 500'], bar_width, label='S&P 500', color=colors[0])
plt.bar(indices_order + bar_width/2, avg_returns['NASDAQ'], bar_width, label='NASDAQ', color=colors[1])

# Add labels and title
plt.xlabel('Weekday')
plt.ylabel('Average Daily Return (%)')
plt.title('Average Daily Returns by Weekday')
plt.xticks(indices_order, avg_returns.index)
plt.axhline(y=0, color='red', linestyle='--', alpha=0.7)
plt.legend()
plt.grid(True, alpha=0.3)

# Add value labels on top of bars
for i, index in enumerate(['S&P 500', 'NASDAQ']):
    for j, day in enumerate(avg_returns.index):
        position = j - bar_width/2 if i == 0 else j + bar_width/2
        value = avg_returns.loc[day, index]
        plt.text(position, value + (0.02 if value >= 0 else -0.08), 
                 f'{value:.2f}', ha='center', va='bottom', fontsize=9)

plt.tight_layout()
plt.show()
```

The table and bar chart above show the average daily returns for each weekday. Notice if Monday returns are consistently lower than other days, which would support the Monday Effect hypothesis.

### **5.4 Trading Volume Analysis**

One potential explanation for the Monday Effect is related to trading volume. Let's examine if trading volumes differ significantly across weekdays:

```python
# Add a trading volume column normalized by mean (for better comparison)
sp500_prepared['Volume_Normalized'] = sp500_prepared['Volume'] / sp500_prepared['Volume'].mean()
nasdaq_prepared['Volume_Normalized'] = nasdaq_prepared['Volume'] / nasdaq_prepared['Volume'].mean()

plt.figure(figsize=(14, 6))

# Boxplot for S&P 500 trading volume
plt.subplot(1, 2, 1)
sns.boxplot(x='Weekday_Name', y='Volume_Normalized', data=sp500_prepared,
            order=['Monday', 'Tuesday', 'Wednesday', 'Thursday', 'Friday'],
            palette=colors)
plt.title('S&P 500 Normalized Trading Volume by Weekday')
plt.xlabel('Weekday')
plt.ylabel('Normalized Volume')
plt.xticks(rotation=45)

# Boxplot for NASDAQ trading volume
plt.subplot(1, 2, 2)
sns.boxplot(x='Weekday_Name', y='Volume_Normalized', data=nasdaq_prepared,
            order=['Monday', 'Tuesday', 'Wednesday', 'Thursday', 'Friday'],
            palette=colors)
plt.title('NASDAQ Normalized Trading Volume by Weekday')
plt.xlabel('Weekday')
plt.ylabel('Normalized Volume')
plt.xticks(rotation=45)

plt.tight_layout()
plt.show()

# Calculate average volume by weekday
sp500_vol_by_day = sp500_prepared.groupby('Weekday_Name')['Volume'].mean()
nasdaq_vol_by_day = nasdaq_prepared.groupby('Weekday_Name')['Volume'].mean()

# Create a DataFrame
avg_volume = pd.DataFrame({
    'S&P 500': sp500_vol_by_day,
    'NASDAQ': nasdaq_vol_by_day
})

# Reorder the index
avg_volume = avg_volume.reindex(['Monday', 'Tuesday', 'Wednesday', 'Thursday', 'Friday'])

# Format the numbers to be more readable
avg_volume = avg_volume.applymap(lambda x: f"{x/1e9:.2f}B")

# Display average volume table
print("Average Trading Volume by Weekday:")
avg_volume
```

The boxplots and table above show the distribution and average trading volumes by weekday. If Monday volumes differ significantly from other days, it might provide insight into the Monday Effect phenomenon.

### **5.5 Time Series Analysis of Monday Returns**

Let's examine how Monday returns have evolved over the time period:

```python
# Extract only Mondays for each index
sp500_mondays = sp500_prepared[sp500_prepared['Weekday_Name'] == 'Monday']
nasdaq_mondays = nasdaq_prepared[nasdaq_prepared['Weekday_Name'] == 'Monday']

plt.figure(figsize=(14, 7))

# Plot S&P 500 Monday returns over time
plt.subplot(2, 1, 1)
plt.plot(sp500_mondays.index, sp500_mondays['Daily_Return'], marker='o', markersize=3, 
         linestyle='-', alpha=0.7, color=colors[0])
plt.title('S&P 500 Monday Returns Over Time')
plt.ylabel('Return (%)')
plt.axhline(y=0, color='red', linestyle='--', alpha=0.7)
plt.grid(True, alpha=0.3)

# Calculate and plot 3-month rolling average
rolling_avg = sp500_mondays['Daily_Return'].rolling(window=12).mean()  # ~12 Mondays in 3 months
plt.plot(sp500_mondays.index, rolling_avg, color='darkblue', linewidth=2, label='3-Month Rolling Avg')

# Plot NASDAQ Monday returns over time
plt.subplot(2, 1, 2)
plt.plot(nasdaq_mondays.index, nasdaq_mondays['Daily_Return'], marker='o', markersize=3, 
         linestyle='-', alpha=0.7, color=colors[1])
plt.title('NASDAQ Monday Returns Over Time')
plt.xlabel('Date')
plt.ylabel('Return (%)')
plt.axhline(y=0, color='red', linestyle='--', alpha=0.7)
plt.grid(True, alpha=0.3)

# Calculate and plot 3-month rolling average
rolling_avg = nasdaq_mondays['Daily_Return'].rolling(window=12).mean()
plt.plot(nasdaq_mondays.index, rolling_avg, color='darkblue', linewidth=2, label='3-Month Rolling Avg')
plt.legend()

plt.tight_layout()
plt.show()

# Calculate percentage of negative Mondays
sp500_neg_mondays = (sp500_mondays['Daily_Return'] < 0).mean() * 100
nasdaq_neg_mondays = (nasdaq_mondays['Daily_Return'] < 0).mean() * 100

# Calculate percentage of negative days for all weekdays
sp500_neg_all = (sp500_prepared['Daily_Return'] < 0).mean() * 100
nasdaq_neg_all = (nasdaq_prepared['Daily_Return'] < 0).mean() * 100

# Create a DataFrame to compare
negative_days = pd.DataFrame({
    'S&P 500': [sp500_neg_mondays, sp500_neg_all],
    'NASDAQ': [nasdaq_neg_mondays, nasdaq_neg_all]
}, index=['Negative Mondays (%)', 'Negative All Days (%)'])

print("Comparison of Negative Return Days:")
negative_days
```

The time series plots show how Monday returns have evolved over the study period. The rolling average helps identify any trends in Monday returns. The table compares the percentage of negative returns on Mondays versus all trading days, which can indicate if Mondays are indeed more prone to negative returns.

## **6. Hypothesis Testing**

Now we'll conduct formal statistical tests to determine if the Monday Effect is statistically significant.

### **6.1 T-test: Monday vs. Other Days**

```python
def monday_effect_ttest(data, index_name):
    # Split data into Monday and non-Monday
    monday_returns = data[data['Weekday_Name'] == 'Monday']['Daily_Return']
    other_returns = data[data['Weekday_Name'] != 'Monday']['Daily_Return']
    
    # Perform t-test
    t_stat, p_value = stats.ttest_ind(monday_returns, other_returns, equal_var=False)
    
    # Calculate mean returns
    monday_mean = monday_returns.mean()
    other_mean = other_returns.mean()
    difference = monday_mean - other_mean
    
    # Print results
    print(f"\n{index_name} T-Test Results:")
    print(f"Average Monday Return: {monday_mean:.4f}%")
    print(f"Average Other Days Return: {other_mean:.4f}%")
    print(f"Difference: {difference:.4f}%")
    print(f"T-statistic: {t_stat:.4f}")
    print(f"P-value: {p_value:.4f}")
    
    # Interpret results
    alpha = 0.05
    if p_value < alpha:
        print(f"Result: There is a statistically significant difference between Monday returns and other days (p < {alpha}).")
        if monday_mean < other_mean:
            print("Monday returns are significantly LOWER than other days, supporting the Monday Effect.")
        else:
            print("Monday returns are significantly HIGHER than other days, contradicting the Monday Effect.")
    else:
        print(f"Result: There is no statistically significant difference between Monday returns and other days (p > {alpha}).")
    
    return {
        'index': index_name,
        'monday_mean': monday_mean,
        't_stat': t_stat,
        'p_value': p_value,
        'significant': p_value < alpha,
        'supports_monday_effect': (p_value < alpha) and (monday_mean < other_mean)
    }

# Perform t-test for each index
sp500_ttest = monday_effect_ttest(sp500_prepared, 'S&P 500')
nasdaq_ttest = monday_effect_ttest(nasdaq_prepared, 'NASDAQ')
```

The t-test compares the mean returns of Mondays versus other days of the week. A statistically significant result (p < 0.05) with lower returns on Mondays would support the Monday Effect hypothesis.

### **6.2 ANOVA: Comparing All Weekdays**

```python
def weekday_anova(data, index_name):
    # Group data by weekday
    monday = data[data['Weekday_Name'] == 'Monday']['Daily_Return']
    tuesday = data[data['Weekday_Name'] == 'Tuesday']['Daily_Return']
    wednesday = data[data['Weekday_Name'] == 'Wednesday']['Daily_Return']
    thursday = data[data['Weekday_Name'] == 'Thursday']['Daily_Return']
    friday = data[data['Weekday_Name'] == 'Friday']['Daily_Return']
    
    # Perform ANOVA
    f_stat, p_value = stats.f_oneway(monday, tuesday, wednesday, thursday, friday)
    
    # Calculate mean returns for each day
    means = {
        'Monday': monday.mean(),
        'Tuesday': tuesday.mean(),
        'Wednesday': wednesday.mean(),
        'Thursday': thursday.mean(),
        'Friday': friday.mean()
    }
    
    # Print results
    print(f"\n{index_name} ANOVA Results:")
    print("Average Returns by Weekday:")
    for day, mean in means.items():
        print(f"{day}: {mean:.4f}%")
    print(f"F-statistic: {f_stat:.4f}")
    print(f"P-value: {p_value:.4f}")
    
    # Interpret results
    alpha = 0.05
    if p_value < alpha:
        print(f"Result: There are statistically significant differences among weekday returns (p < {alpha}).")
        # Find the day with the lowest return
        min_day = min(means, key=means.get)
        if min_day == 'Monday':
            print(f"The lowest returns are on Mondays ({means['Monday']:.4f}%), supporting the Monday Effect.")
        else:
            print(f"The lowest returns are on {min_day}s ({means[min_day]:.4f}%), not on Mondays.")
    else:
        print(f"Result: There are no statistically significant differences among weekday returns (p > {alpha}).")
    
    return {
        'index': index_name,
        'f_stat': f_stat,
        'p_value': p_value,
        'significant': p_value < alpha,
        'day_means': means
    }

# Perform ANOVA for each index
sp500_anova = weekday_anova(sp500_prepared, 'S&P 500')
nasdaq_anova = weekday_anova(nasdaq_prepared, 'NASDAQ')
```

The ANOVA test compares the mean returns across all weekdays to determine if any day's returns significantly differ from the others. If Monday returns are significantly lower than other days, it would support the Monday Effect hypothesis.

### **6.3 Post-hoc Analysis (if ANOVA is significant)**

If the ANOVA test shows significant differences between weekdays, we can perform post-hoc tests to determine which specific days differ from each other:

```python
# Function to perform post-hoc tests if ANOVA is significant
def post_hoc_analysis(data, index_name):
    if sp500_anova['significant'] or nasdaq_anova['significant']:
        print(f"\nPost-hoc Analysis for {index_name}:")
        
        # Create a dictionary to store weekday data
        weekday_data = {}
        for day in ['Monday', 'Tuesday', 'Wednesday', 'Thursday', 'Friday']:
            weekday_data[day] = data[data['Weekday_Name'] == day]['Daily_Return']
        
        # Create a table to store p-values
        days = ['Monday', 'Tuesday', 'Wednesday', 'Thursday', 'Friday']
        pvalue_matrix = pd.DataFrame(index=days, columns=days)
        
        # Fill the table with p-values
        for i, day1 in enumerate(days):
            for j, day2 in enumerate(days):
                if i == j:
                    pvalue_matrix.loc[day1, day2] = 1.0
                elif i < j:  # Avoid duplicate calculations
                    t_stat, p_val = stats.ttest_ind(weekday_data[day1], weekday_data[day2], equal_var=False)
                    pvalue_matrix.loc[day1, day2] = p_val
                    pvalue_matrix.loc[day2, day1] = p_val  # Matrix is symmetric
        
        # Format p-values and highlight significant results
        def format_pvalue(val):
            if val < 0.05:
                return f"**{val:.4f}**"  # Bold for significant results
            else:
                return f"{val:.4f}"
        
        formatted_pvalues = pvalue_matrix.applymap(format_pvalue)
        
        print("P-values for pair-wise comparisons (significant results in bold, p < 0.05):")
        print(formatted_pvalues)
        
        # Find pairs with significant differences
        significant_pairs = []
        for day1 in days:
            for day2 in days:
                if day1 != day2 and pvalue_matrix.loc[day1, day2] < 0.05:
                    significant_pairs.append((day1, day2))
        
        if significant_pairs:
            print("\nStatistically significant differences between weekdays:")
            for day1, day2 in significant_pairs:
                mean1 = weekday_data[day1].mean()
                mean2 = weekday_data[day2].mean()
                print(f"{day1} vs {day2}: {mean1:.4f}% vs {mean2:.4f}% (diff: {mean1-mean2:.4f}%)")
        else:
            print("\nNo statistically significant differences between pairs of weekdays were found in post-hoc analysis.")
    else:
        print(f"\nSkipping post-hoc analysis for {index_name} as ANOVA was not significant.")

# Perform post-hoc analysis for each index
post_hoc_analysis(sp500_prepared, 'S&P 500')
post_hoc_analysis(nasdaq_prepared, 'NASDAQ')
```

The post-hoc analysis compares each pair of weekdays to identify which specific days differ from each other. This helps us understand if Monday returns are significantly different from each other day individually.

## **7. Findings**

Let's summarize our findings regarding the Monday Effect:

```python
# Create a summary table of our findings
results_summary = pd.DataFrame({
    'Test': ['T-test Monday vs Other Days', 'ANOVA Across Weekdays'],
    'S&P 500 Significant': [sp500_ttest['significant'], sp500_anova['significant']],
    'S&P 500 P-value': [sp500_ttest['p_value'], sp500_anova['p_value']],
    'NASDAQ Significant': [nasdaq_ttest['significant'], nasdaq_anova['significant']],
    'NASDAQ P-value': [nasdaq_ttest['p_value'], nasdaq_anova['p_value']],
})

# Display the summary
print("Summary of Statistical Tests:")
results_summary.style.format({
    'S&P 500 P-value': '{:.4f}',
    'NASDAQ P-value': '{:.4f}'
})

# Create a summary of the Monday Effect findings
monday_effect = pd.DataFrame({
    'Index': ['S&P 500', 'NASDAQ'],
    'Monday Mean Return (%)': [sp500_ttest['monday_mean'], nasdaq_ttest['monday_mean']],
    'Other Days Mean Return (%)': [
        sp500_prepared[sp500_prepared['Weekday_Name'] != 'Monday']['Daily_Return'].mean(),
        nasdaq_prepared[nasdaq_prepared['Weekday_Name'] != 'Monday']['Daily_Return'].mean()
    ],
    'Is Monday Return Lower?': [
        sp500_ttest['monday_mean'] < sp500_prepared[sp500_prepared['Weekday_Name'] != 'Monday']['Daily_Return'].mean(),
        nasdaq_ttest['monday_mean'] < nasdaq_prepared[nasdaq_prepared['Weekday_Name'] != 'Monday']['Daily_Return'].mean()
    ],
    'Statistically Significant?': [sp500_ttest['significant'], nasdaq_ttest['significant']],
    'Monday Effect Present?': [sp500_ttest['supports_monday_effect'], nasdaq_ttest['supports_monday_effect']]
})

# Display the Monday Effect summary
print("\nMonday Effect Summary:")
monday_effect.style.format({
    'Monday Mean Return (%)': '{:.4f}',
    'Other Days Mean Return (%)': '{:.4f}'
})
```

Based on our analysis, we can answer the following questions:

1. **Does the Monday Effect exist in our data?** 
   - [Insert interpretation based on actual results]

2. **Is the effect statistically significant?**
   - [Insert interpretation based on actual results]

3. **Are there differences between the S&P 500 and NASDAQ indices?**
   - [Insert interpretation based on actual results]

4. **How does trading volume relate to the Monday Effect?**
   - [Insert interpretation based on actual results]

## **8. Limitations & Future Work**

While our analysis provides valuable insights into the Monday Effect, there are several limitations and potential areas for future research:

```python
# No code in this section - just markdown explanation
```

### **Limitations:**

1. **Time Period**: Our analysis covers only the past 5 years. Market behaviors may change over different time periods, especially during significant events like financial crises or the COVID-19 pandemic.

2. **Limited Indices**: We focused on only two major US market indices. The Monday Effect might vary across different markets, sectors, or individual stocks.

3. **Macroeconomic Factors**: We didn't account for macroeconomic events, news releases, or market sentiment that could influence daily returns.

4. **Trading Volume Analysis**: While we examined trading volume differences, a more sophisticated analysis could explore the relationship between volume and returns.

5. **Calendar Effects**: Our analysis focused specifically on the Monday Effect without considering other calendar anomalies like month-end effects, January effect, or holiday effects that might interact with weekday patterns.

### **Future Work:**

1. **Extended Time Period**: Future research could analyze a longer time period (10+ years) to determine if the Monday Effect has changed over time.

2. **Market Segments**: Analyze the Monday Effect across different market segments, sectors, and international markets to identify if the effect varies by industry or geography.

3. **Volatility Analysis**: Examine whether the Monday Effect is stronger during periods of high market volatility compared to calm market conditions.

4. **Trading Strategy Development**: Develop and backtest trading strategies based on the Monday Effect to determine if the anomaly can be profitably exploited.

5. **Sentiment Analysis**: Incorporate news sentiment analysis to determine if weekend news coverage affects Monday returns.

6. **Intraday Analysis**: Analyze intraday price movements on Mondays to determine if the effect is concentrated at market open or distributed throughout the day.

7. **Institutional vs. Retail Trading**: Investigate if the Monday Effect is influenced by different trading patterns between institutional and retail investors.

## **9. Conclusion**

This project investigated the Monday Effect in stock markets using 5 years of data from the S&P 500 and NASDAQ indices. Our analysis included data exploration, visualization, and formal statistical testing to determine if Monday returns are significantly different from other weekdays.

Based on our findings:

1. [Insert conclusion about whether Monday returns are consistently lower]

2. [Insert conclusion about statistical significance of any observed patterns]

3. [Insert conclusion about differences between indices]

4. [Insert practical implications for investors]

The Monday Effect remains an interesting market anomaly that challenges the Efficient Market Hypothesis. While our analysis provides evidence [for/against] its existence in recent market data, further research is needed to understand its persistence and underlying causes.

## **References**

1. French, K. R. (1980). Stock returns and the weekend effect. Journal of Financial Economics, 8(1), 55-69.

2. Gibbons, M. R., & Hess, P. (1981). Day of the week effects and asset returns. Journal of Business, 54(4), 579-596.

3. Lakonishok, J., & Smidt, S. (1988). Are seasonal anomalies real? A ninety-year perspective. The Review of Financial Studies, 1(4), 403-425.

4. Chen, H., & Singal, V. (2003). Role of speculative short sales in price formation: The case of the weekend effect. The Journal of Finance, 58(2), 685-705.

5. Birru, J. (2018). Day of the week and the cross-section of returns. Journal of Financial Economics, 130(1), 182-214.

## **Appendix: Additional Analysis**

### **A.1 Year-by-Year Analysis**

We can also look at how the Monday Effect has changed over the years covered in our dataset:

```python
# Add year column to dataframes
sp500_prepared['Year'] = sp500_prepared.index.year
nasdaq_prepared['Year'] = nasdaq_prepared.index.year

# Function to calculate yearly Monday effect
def yearly_monday_effect(data):
    years = sorted(data['Year'].unique())
    results = []
    
    for year in years:
        year_data = data[data['Year'] == year]
        monday_return = year_data[year_data['Weekday_Name'] == 'Monday']['Daily_Return'].mean()
        other_return = year_data[year_data['Weekday_Name'] != 'Monday']['Daily_Return'].mean()
        results.append({
            'Year': year,
            'Monday_Return': monday_return,
            'Other_Days_Return': other_return,
            'Difference': monday_return - other_return
        })
    
    return pd.DataFrame(results)

# Calculate yearly Monday effect for both indices
sp500_yearly = yearly_monday_effect(sp500_prepared)
nasdaq_yearly = yearly_monday_effect(nasdaq_prepared)

# Plot yearly Monday effect
plt.figure(figsize=(14, 7))

# Plot for S&P 500
plt.subplot(1, 2, 1)
x = range(len(sp500_yearly))
plt.bar(x, sp500_yearly['Monday_Return'], width=0.4, label='Monday', color=colors[0])
plt.bar([i+0.4 for i in x], sp500_yearly['Other_Days_Return'], width=0.4, label='Other Days', color=colors[1])
plt.axhline(y=0, color='red', linestyle='--', alpha=0.7)
plt.xticks([i+0.2 for i in x], sp500_yearly['Year'], rotation=45)
plt.title('S&P 500: Monday vs Other Days Returns by Year')
plt.ylabel('Average Return (%)')
plt.legend()

# Plot for NASDAQ
plt.subplot(1, 2, 2)
x = range(len(nasdaq_yearly))
plt.bar(x, nasdaq_yearly['Monday_Return'], width=0.4, label='Monday', color=colors[0])
plt.bar([i+0.4 for i in x], nasdaq_yearly['Other_Days_Return'], width=0.4, label='Other Days', color=colors[1])
plt.axhline(y=0, color='red', linestyle='--', alpha=0.7)
plt.xticks([i+0.2 for i in x], nasdaq_yearly['Year'], rotation=45)
plt.title('NASDAQ: Monday vs Other Days Returns by Year')
plt.ylabel('Average Return (%)')
plt.legend()

plt.tight_layout()
plt.show()

# Display yearly Monday effect tables
print("S&P 500 Yearly Monday Effect:")
sp500_yearly.style.format({
    'Monday_Return': '{:.4f}%',
    'Other_Days_Return': '{:.4f}%',
    'Difference': '{:.4f}%'
})

print("\nNASDAQ Yearly Monday Effect:")
nasdaq_yearly.style.format({
    'Monday_Return': '{:.4f}%',
    'Other_Days_Return': '{:.4f}%',
    'Difference': '{:.4f}%'
})
```

### **A.2 Correlation Between Monday Returns and Previous Friday Returns**

One theory suggests that Monday returns may be correlated with the previous Friday returns. Let's examine this relationship:

```python
# Function to get previous Friday return for each Monday
def add_previous_friday(data):
    # Create a copy of the dataframe
    df = data.copy()
    
    # Add a shifted return column
    df['Previous_Day_Return'] = df['Daily_Return'].shift(1)
    
    # Filter for Mondays only
    mondays = df[df['Weekday_Name'] == 'Monday'].copy()
    
    # Find the previous Friday for each Monday
    for i, row in mondays.iterrows():
        # Try to find the previous Friday (could be 3 days ago if no holidays)
        friday_date = i - pd.Timedelta(days=3)
        while friday_date not in df.index or df.loc[friday_date, 'Weekday_Name'] != 'Friday':
            friday_date = friday_date - pd.Timedelta(days=1)
            if friday_date < df.index.min():
                # If we can't find a Friday, set to NaN
                mondays.loc[i, 'Previous_Friday_Return'] = np.nan
                break
        else:
            mondays.loc[i, 'Previous_Friday_Return'] = df.loc[friday_date, 'Daily_Return']
    
    return mondays

# Get Monday data with previous Friday returns
sp500_monday_friday = add_previous_friday(sp500_prepared)
nasdaq_monday_friday = add_previous_friday(nasdaq_prepared)

# Plot scatter plots of Monday returns vs previous Friday returns
plt.figure(figsize=(14, 6))

# Plot for S&P 500
plt.subplot(1, 2, 1)
plt.scatter(sp500_monday_friday['Previous_Friday_Return'], sp500_monday_friday['Daily_Return'], 
            alpha=0.6, color=colors[0])
plt.title('S&P 500: Monday Returns vs Previous Friday Returns')
plt.xlabel('Previous Friday Return (%)')
plt.ylabel('Monday Return (%)')
plt.grid(True, alpha=0.3)
plt.axhline(y=0, color='red', linestyle='--', alpha=0.5)
plt.axvline(x=0, color='red', linestyle='--', alpha=0.5)

# Calculate and plot the regression line
if len(sp500_monday_friday.dropna()) > 0:
    slope, intercept, r_value, p_value, std_err = stats.linregress(
        sp500_monday_friday['Previous_Friday_Return'].dropna(), 
        sp500_monday_friday['Daily_Return'].dropna()
    )
    x = np.array([sp500_monday_friday['Previous_Friday_Return'].min(), sp500_monday_friday['Previous_Friday_Return'].max()])
    y = slope * x + intercept
    plt.plot(x, y, color='darkblue', linestyle='-', linewidth=2)
    plt.text(0.05, 0.95, f'r = {r_value:.4f}, p = {p_value:.4f}', transform=plt.gca().transAxes, 
             verticalalignment='top')

# Plot for NASDAQ
plt.subplot(1, 2, 2)
plt.scatter(nasdaq_monday_friday['Previous_Friday_Return'], nasdaq_monday_friday['Daily_Return'], 
            alpha=0.6, color=colors[1])
plt.title('NASDAQ: Monday Returns vs Previous Friday Returns')
plt.xlabel('Previous Friday Return (%)')
plt.ylabel('Monday Return (%)')
plt.grid(True, alpha=0.3)
plt.axhline(y=0, color='red', linestyle='--', alpha=0.5)
plt.axvline(x=0, color='red', linestyle='--', alpha=0.5)

# Calculate and plot the regression line
if len(nasdaq_monday_friday.dropna()) > 0:
    slope, intercept, r_value, p_value, std_err = stats.linregress(
        nasdaq_monday_friday['Previous_Friday_Return'].dropna(), 
        nasdaq_monday_friday['Daily_Return'].dropna()
    )
    x = np.array([nasdaq_monday_friday['Previous_Friday_Return'].min(), nasdaq_monday_friday['Previous_Friday_Return'].max()])
    y = slope * x + intercept
    plt.plot(x, y, color='darkblue', linestyle='-', linewidth=2)
    plt.text(0.05, 0.95, f'r = {r_value:.4f}, p = {p_value:.4f}', transform=plt.gca().transAxes, 
             verticalalignment='top')

plt.tight_layout()
plt.show()
```

The scatter plots show the relationship between Monday returns and the previous Friday's returns. The correlation coefficient (r) and p-value indicate whether there's a statistically significant relationship between these returns.

These additional analyses provide deeper insights into the Monday Effect and help to understand potential underlying mechanisms.
